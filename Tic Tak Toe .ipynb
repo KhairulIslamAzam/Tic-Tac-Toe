{
 "cells": [
  {
   "cell_type": "code",
   "execution_count": null,
   "metadata": {},
   "outputs": [],
   "source": [
    "from IPython.display import clear_output"
   ]
  },
  {
   "cell_type": "code",
   "execution_count": null,
   "metadata": {},
   "outputs": [],
   "source": [
    "def display_board(board):\n",
    "    clear_output()\n",
    "    print('  ||   ||')\n",
    "    print(board[1] +'  || ' +board[2]+  '  || ' +board[3])\n",
    "    print('  ||   ||')\n",
    "    print('=============')\n",
    "    print('  ||   ||')\n",
    "    print( board[4] + '  || ' +board[5]+  '  || ' +board[6])\n",
    "    print('  ||   ||')\n",
    "    print('=============')\n",
    "    print('  ||   ||')\n",
    "    print(board[7] + '  || ' +board[8]+  '  || ' +board[9])\n",
    "    print('  ||   ||')"
   ]
  },
  {
   "cell_type": "code",
   "execution_count": null,
   "metadata": {},
   "outputs": [],
   "source": [
    "def input_player():\n",
    "    '''\n",
    "    return as tupple(player1,player2)\n",
    "    '''\n",
    "    marker = ' '\n",
    "    while not((marker =='X' or marker =='x') or (marker =='O' or marker =='o')):\n",
    "        marker = input('player 1 select your playcard symbol X or O ').upper()\n",
    "    \n",
    "    if marker == 'X':\n",
    "        return ('X', 'O')\n",
    "    else:\n",
    "        return ('O','X')"
   ]
  },
  {
   "cell_type": "code",
   "execution_count": null,
   "metadata": {},
   "outputs": [],
   "source": [
    "def place_marker(board, marker, position):\n",
    "    board[position] = marker"
   ]
  },
  {
   "cell_type": "code",
   "execution_count": null,
   "metadata": {},
   "outputs": [],
   "source": [
    "def win_ck(board, marker):\n",
    "    \n",
    "    return((board[1] == marker and board[2] == marker and board[3] == marker) or\n",
    "    (board[4] == marker and board[5] == marker and board[6] == marker) or\n",
    "    (board[7] == marker and board[8] == marker and board[9] == marker) or\n",
    "    (board[1] == marker and board[4] == marker and board[7] == marker) or\n",
    "    (board[2] == marker and board[5] == marker and board[8] == marker) or\n",
    "    (board[3] == marker and board[6] == marker and board[9] == marker) or\n",
    "    (board[1] == marker and board[5] == marker and board[9] == marker) or\n",
    "    (board[3] == marker and board[5] == marker and board[7] == marker))"
   ]
  },
  {
   "cell_type": "markdown",
   "metadata": {},
   "source": [
    "## player swithing randomly"
   ]
  },
  {
   "cell_type": "code",
   "execution_count": null,
   "metadata": {},
   "outputs": [],
   "source": [
    "import random\n",
    "def choose_first():\n",
    "    flip = random.randint(0,1)\n",
    "    \n",
    "    if flip == 0:\n",
    "        return 'Player 1'\n",
    "    else:\n",
    "        return 'Player 2'"
   ]
  },
  {
   "cell_type": "code",
   "execution_count": null,
   "metadata": {},
   "outputs": [],
   "source": [
    "## cheacking space in board\n",
    "def space_ck(board, position):\n",
    "    return board[position] ==''"
   ]
  },
  {
   "cell_type": "code",
   "execution_count": null,
   "metadata": {},
   "outputs": [],
   "source": [
    "## full_board_cheaing \n",
    "def full_board_ck(board):\n",
    "    \n",
    "    for i in range(1,10):\n",
    "        if space_ck(board,i):\n",
    "            return False\n",
    "    # return true means board is full\n",
    "    return True"
   ]
  },
  {
   "cell_type": "code",
   "execution_count": null,
   "metadata": {},
   "outputs": [],
   "source": [
    "#choosing position by player\n",
    "\n",
    "def player_choice(board):\n",
    "    position = 0\n",
    "    \n",
    "    while position not in [1,2,3,4,5,6,7,8,9] or not space_ck(board, position):\n",
    "        position = int(input('choose a position between: (1-9) '))\n",
    "        \n",
    "    return position"
   ]
  },
  {
   "cell_type": "code",
   "execution_count": null,
   "metadata": {},
   "outputs": [],
   "source": [
    "#replay for match again\n",
    "def replay():\n",
    "    \n",
    "    choice = input('Do you want to play again? Yes or No ').lower()\n",
    "    \n",
    "    return choice == 'yes'"
   ]
  },
  {
   "cell_type": "code",
   "execution_count": null,
   "metadata": {},
   "outputs": [],
   "source": [
    "#starting the game\n",
    "\n",
    "print('Welcome to Tic Tak Toe')\n",
    "\n",
    "while True:\n",
    "    \n",
    "    #creating empty list of board\n",
    "    the_board = ['']*10\n",
    "    #chossing player symbol\n",
    "    player1_marker, player2_marker = input_player()\n",
    "    #ask to play the game player1 or 2\n",
    "    turn = choose_first()\n",
    "    print(turn+' goes first')\n",
    "    \n",
    "    #play the game y or n\n",
    "    play_game = input('Ready to play? y or n ')\n",
    "    \n",
    "    if play_game == 'y':\n",
    "        game_on = True\n",
    "    else:\n",
    "        game_on = False\n",
    "        \n",
    "    \n",
    "    while game_on:\n",
    "        if turn == 'Player 1':\n",
    "            #turn the player 1 game\n",
    "            \n",
    "            #first display the board\n",
    "            display_board(the_board)\n",
    "            #choose the position \n",
    "            position = player_choice(the_board)\n",
    "            #place the marker\n",
    "            place_marker(the_board, player1_marker, position)\n",
    "            #ck won \n",
    "            if win_ck(the_board, player1_marker):\n",
    "                display_board(the_board)\n",
    "                print('Player 1 won the game')\n",
    "                game_on = False\n",
    "            else:\n",
    "                if full_board_ck(the_board):\n",
    "                    display_board(the_board)\n",
    "                    print('The game is Tie')\n",
    "                    game_on = False\n",
    "                else:\n",
    "                    turn = 'Player 2'\n",
    "            \n",
    "        else:\n",
    "            #turn the player 2 game\n",
    "            \n",
    "            #first display the board\n",
    "            display_board(the_board)\n",
    "            #choose the position \n",
    "            position = player_choice(the_board)\n",
    "            #place the marker\n",
    "            place_marker(the_board, player2_marker, position)\n",
    "            #ck won \n",
    "            if win_ck(the_board, player2_marker):\n",
    "                display_board(the_board)\n",
    "                print('Player 2 won the game')\n",
    "                game_on = False\n",
    "            else:\n",
    "                if full_board_ck(the_board):\n",
    "                    display_board(the_board)\n",
    "                    print('The game is Tie')\n",
    "                    game_on = False\n",
    "                else:\n",
    "                    turn = 'Player 1'\n",
    "    \n",
    "    if not replay():\n",
    "        break"
   ]
  }
 ],
 "metadata": {
  "kernelspec": {
   "display_name": "Python 3",
   "language": "python",
   "name": "python3"
  },
  "language_info": {
   "codemirror_mode": {
    "name": "ipython",
    "version": 3
   },
   "file_extension": ".py",
   "mimetype": "text/x-python",
   "name": "python",
   "nbconvert_exporter": "python",
   "pygments_lexer": "ipython3",
   "version": "3.7.4"
  }
 },
 "nbformat": 4,
 "nbformat_minor": 2
}
